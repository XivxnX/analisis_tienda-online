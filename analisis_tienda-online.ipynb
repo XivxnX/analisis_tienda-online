{
 "cells": [
  {
   "cell_type": "markdown",
   "id": "ea385643",
   "metadata": {},
   "source": [
    "# Análisis para tienda online\n",
    "## Objetivo:\n",
    "Análisis de hipótesis para el aumento de ingresos\n",
    "### Objetivos específicos:\n",
    "* Priorizar las hipótesis\n",
    "* Analizar el test A/B\n",
    "    * Ingreso acumudalo por grupo\n",
    "    * Número de pedidos por grupo\n",
    "    * Ticket promedio por grupo y su diferencia relativa\n",
    "    * Tasa de conversión para cada grupo\n",
    "    * Identificar anomalías\n",
    "    * Significancia estadística de la diferencia en la tasa de conversión y el ticket promedio para cada grupo\n"
   ]
  },
  {
   "cell_type": "markdown",
   "id": "6c1b2962",
   "metadata": {},
   "source": [
    "## Pasos a seguir\n",
    "1. Priorizar las hipótesis\n",
    "    * Aplicar framework ICE\n",
    "    * Aplicar framework RICE\n",
    "\n",
    "2. Análisis de test A/B\n",
    "    * Limpieza de datos\n",
    "    * Ingreso acumudalo por grupo\n",
    "    * Número de pedidos por grupo\n",
    "    * Ticket promedio por grupo y su diferencia relativa\n",
    "    * Tasa de conversión para cada grupo\n",
    "    * Identificar anomalías\n",
    "    * Significancia estadística de la diferencia en la tasa de conversión y el ticket promedio para cada grupo\n",
    "\n",
    "3. Toma de decisión sobre la prueba"
   ]
  },
  {
   "cell_type": "markdown",
   "id": "b7615ce8",
   "metadata": {},
   "source": [
    "## Diccionario de datos\n",
    "\n",
    "**Hypotheses** (hipótesis)\n",
    "* ``Hypotheses``: breves descripciones de las hipótesis\n",
    "* ``Reach``: alcance del usuario, en una escala del uno a diez\n",
    "* ``Impact``: impacto en los usuarios, en una escala del uno al diez\n",
    "* ``Confidence``: confianza en la hipótesis, en una escala del uno al diez\n",
    "* ``Effort``: los recursos necesarios para probar una hipótesis, en una escala del uno al diez. Cuanto mayor sea el valor Effort, más recursos requiere la prueba\n",
    "\n",
    "**Orders** (pedidos realizados)\n",
    "* ``transactionId``: identificador de pedido\n",
    "* ``visitorId``: identificador del usuario que realizó el pedido\n",
    "* ``date``: fecha del pedido\n",
    "* ``revenue``: ingresos del pedido\n",
    "* ``group``: el grupo del test A/B al que pertenece el usuario\n",
    "\n",
    "**Visits** (registro de visitas)\n",
    "* ``date``: la fecha\n",
    "* ``group``: grupo de la prueba A/B\n",
    "* ``visits``: el número de visitas en la fecha especificada en el grupo de pruebas A/B especificado"
   ]
  },
  {
   "cell_type": "code",
   "execution_count": 1,
   "id": "e37aaa39",
   "metadata": {},
   "outputs": [],
   "source": [
    "# importar librerias\n",
    "import pandas as pd\n",
    "import numpy as np\n",
    "import matplotlib.pyplot as plt\n",
    "import seaborn as sns\n",
    "import scipy.stats as st\n",
    "from statsmodels.stats.proportion import proportions_ztest"
   ]
  },
  {
   "cell_type": "markdown",
   "id": "7a26e48d",
   "metadata": {},
   "source": [
    "# Priorizar hipótesis"
   ]
  },
  {
   "cell_type": "code",
   "execution_count": 2,
   "id": "d9da7d07",
   "metadata": {},
   "outputs": [
    {
     "name": "stdout",
     "output_type": "stream",
     "text": [
      "<class 'pandas.core.frame.DataFrame'>\n",
      "RangeIndex: 9 entries, 0 to 8\n",
      "Data columns (total 5 columns):\n",
      " #   Column      Non-Null Count  Dtype \n",
      "---  ------      --------------  ----- \n",
      " 0   Hypothesis  9 non-null      object\n",
      " 1   Reach       9 non-null      int64 \n",
      " 2   Impact      9 non-null      int64 \n",
      " 3   Confidence  9 non-null      int64 \n",
      " 4   Effort      9 non-null      int64 \n",
      "dtypes: int64(4), object(1)\n",
      "memory usage: 492.0+ bytes\n"
     ]
    }
   ],
   "source": [
    "# importar hipótesis\n",
    "hypotheses = pd.read_csv('hypotheses_us.csv', sep=';')\n",
    "\n",
    "# información general de 'hypotheses'\n",
    "hypotheses.info()"
   ]
  },
  {
   "cell_type": "code",
   "execution_count": 3,
   "id": "54be41cd",
   "metadata": {},
   "outputs": [],
   "source": [
    "# nombres de columnas\n",
    "hypotheses.columns = hypotheses.columns.str.lower()"
   ]
  },
  {
   "cell_type": "code",
   "execution_count": 4,
   "id": "c60dabcb",
   "metadata": {},
   "outputs": [
    {
     "data": {
      "text/html": [
       "<div>\n",
       "<style scoped>\n",
       "    .dataframe tbody tr th:only-of-type {\n",
       "        vertical-align: middle;\n",
       "    }\n",
       "\n",
       "    .dataframe tbody tr th {\n",
       "        vertical-align: top;\n",
       "    }\n",
       "\n",
       "    .dataframe thead th {\n",
       "        text-align: right;\n",
       "    }\n",
       "</style>\n",
       "<table border=\"1\" class=\"dataframe\">\n",
       "  <thead>\n",
       "    <tr style=\"text-align: right;\">\n",
       "      <th></th>\n",
       "      <th>hypothesis</th>\n",
       "      <th>reach</th>\n",
       "      <th>impact</th>\n",
       "      <th>confidence</th>\n",
       "      <th>effort</th>\n",
       "    </tr>\n",
       "  </thead>\n",
       "  <tbody>\n",
       "    <tr>\n",
       "      <th>0</th>\n",
       "      <td>Add two new channels for attracting traffic. T...</td>\n",
       "      <td>3</td>\n",
       "      <td>10</td>\n",
       "      <td>8</td>\n",
       "      <td>6</td>\n",
       "    </tr>\n",
       "    <tr>\n",
       "      <th>1</th>\n",
       "      <td>Launch your own delivery service. This will sh...</td>\n",
       "      <td>2</td>\n",
       "      <td>5</td>\n",
       "      <td>4</td>\n",
       "      <td>10</td>\n",
       "    </tr>\n",
       "    <tr>\n",
       "      <th>2</th>\n",
       "      <td>Add product recommendation blocks to the store...</td>\n",
       "      <td>8</td>\n",
       "      <td>3</td>\n",
       "      <td>7</td>\n",
       "      <td>3</td>\n",
       "    </tr>\n",
       "    <tr>\n",
       "      <th>3</th>\n",
       "      <td>Change the category structure. This will incre...</td>\n",
       "      <td>8</td>\n",
       "      <td>3</td>\n",
       "      <td>3</td>\n",
       "      <td>8</td>\n",
       "    </tr>\n",
       "    <tr>\n",
       "      <th>4</th>\n",
       "      <td>Change the background color on the main page. ...</td>\n",
       "      <td>3</td>\n",
       "      <td>1</td>\n",
       "      <td>1</td>\n",
       "      <td>1</td>\n",
       "    </tr>\n",
       "    <tr>\n",
       "      <th>5</th>\n",
       "      <td>Add a customer review page. This will increase...</td>\n",
       "      <td>3</td>\n",
       "      <td>2</td>\n",
       "      <td>2</td>\n",
       "      <td>3</td>\n",
       "    </tr>\n",
       "    <tr>\n",
       "      <th>6</th>\n",
       "      <td>Show banners with current offers and sales on ...</td>\n",
       "      <td>5</td>\n",
       "      <td>3</td>\n",
       "      <td>8</td>\n",
       "      <td>3</td>\n",
       "    </tr>\n",
       "    <tr>\n",
       "      <th>7</th>\n",
       "      <td>Add a subscription form to all the main pages....</td>\n",
       "      <td>10</td>\n",
       "      <td>7</td>\n",
       "      <td>8</td>\n",
       "      <td>5</td>\n",
       "    </tr>\n",
       "    <tr>\n",
       "      <th>8</th>\n",
       "      <td>Launch a promotion that gives users discounts ...</td>\n",
       "      <td>1</td>\n",
       "      <td>9</td>\n",
       "      <td>9</td>\n",
       "      <td>5</td>\n",
       "    </tr>\n",
       "  </tbody>\n",
       "</table>\n",
       "</div>"
      ],
      "text/plain": [
       "                                          hypothesis  reach  impact  \\\n",
       "0  Add two new channels for attracting traffic. T...      3      10   \n",
       "1  Launch your own delivery service. This will sh...      2       5   \n",
       "2  Add product recommendation blocks to the store...      8       3   \n",
       "3  Change the category structure. This will incre...      8       3   \n",
       "4  Change the background color on the main page. ...      3       1   \n",
       "5  Add a customer review page. This will increase...      3       2   \n",
       "6  Show banners with current offers and sales on ...      5       3   \n",
       "7  Add a subscription form to all the main pages....     10       7   \n",
       "8  Launch a promotion that gives users discounts ...      1       9   \n",
       "\n",
       "   confidence  effort  \n",
       "0           8       6  \n",
       "1           4      10  \n",
       "2           7       3  \n",
       "3           3       8  \n",
       "4           1       1  \n",
       "5           2       3  \n",
       "6           8       3  \n",
       "7           8       5  \n",
       "8           9       5  "
      ]
     },
     "execution_count": 4,
     "metadata": {},
     "output_type": "execute_result"
    }
   ],
   "source": [
    "# mostrar hipótesis\n",
    "hypotheses"
   ]
  },
  {
   "cell_type": "code",
   "execution_count": 5,
   "id": "81f5a0d1",
   "metadata": {},
   "outputs": [],
   "source": [
    "# elaborar frameworks\n",
    "# calcular 'ICE'\n",
    "hypotheses['ICE'] = (hypotheses['impact'] * hypotheses['confidence']) / hypotheses['effort']\n",
    "\n",
    "# calcular 'RICE'\n",
    "hypotheses['RICE'] = (hypotheses['reach'] * hypotheses['impact'] * hypotheses['confidence']) / hypotheses['effort']"
   ]
  },
  {
   "cell_type": "code",
   "execution_count": 6,
   "id": "076381d4",
   "metadata": {},
   "outputs": [
    {
     "name": "stdout",
     "output_type": "stream",
     "text": [
      "Framework ICE \n",
      "                                           hypothesis        ICE\n",
      "8  Launch a promotion that gives users discounts ...  16.200000\n",
      "0  Add two new channels for attracting traffic. T...  13.333333\n",
      "7  Add a subscription form to all the main pages....  11.200000\n",
      "6  Show banners with current offers and sales on ...   8.000000\n",
      "2  Add product recommendation blocks to the store...   7.000000\n",
      "1  Launch your own delivery service. This will sh...   2.000000\n",
      "5  Add a customer review page. This will increase...   1.333333\n",
      "3  Change the category structure. This will incre...   1.125000\n",
      "4  Change the background color on the main page. ...   1.000000\n",
      "\n",
      "Framework RICE \n",
      "                                           hypothesis   RICE\n",
      "7  Add a subscription form to all the main pages....  112.0\n",
      "2  Add product recommendation blocks to the store...   56.0\n",
      "0  Add two new channels for attracting traffic. T...   40.0\n",
      "6  Show banners with current offers and sales on ...   40.0\n",
      "8  Launch a promotion that gives users discounts ...   16.2\n",
      "3  Change the category structure. This will incre...    9.0\n",
      "1  Launch your own delivery service. This will sh...    4.0\n",
      "5  Add a customer review page. This will increase...    4.0\n",
      "4  Change the background color on the main page. ...    3.0\n"
     ]
    }
   ],
   "source": [
    "# prioridad de las hipótesis\n",
    "print('Framework ICE', '\\n', hypotheses[['hypothesis', 'ICE']].sort_values(by='ICE', ascending=False))\n",
    "print()\n",
    "print('Framework RICE', '\\n', hypotheses[['hypothesis', 'RICE']].sort_values(by='RICE', ascending=False))"
   ]
  },
  {
   "cell_type": "markdown",
   "id": "39b01e95",
   "metadata": {},
   "source": [
    "### Comentario\n",
    "Hay una diferencia en la priorización de las hipótesis dependiendo del framework empleado, esto se debe al parámetro 'reach' que emplea el 'RICE'. Sugiero priorizar las hipótesis tomando en cuenta ambos métodos para considerar tanto el impacto como el alcance.\n",
    "\n",
    "Hipótesis recomendadas por orden de prioridad:\n",
    "1) hipótesis 8: Add a subscription form to all the main pages. This will help you compile a mailing list\n",
    "2) hipótesis 1: Add two new channels for attracting traffic. This will bring 30% more users\n",
    "3) hipótesis 3: Add product recommendation blocks to the store's site. This will increase conversion and average purchase size"
   ]
  },
  {
   "cell_type": "markdown",
   "id": "5a3b8fb9",
   "metadata": {},
   "source": [
    "# Análisis de test A/B"
   ]
  },
  {
   "cell_type": "code",
   "execution_count": 7,
   "id": "4bc05da5",
   "metadata": {},
   "outputs": [],
   "source": [
    "# importar datasets\n",
    "orders = pd.read_csv('orders_us.csv')\n",
    "visitis = pd.read_csv('visits_us.csv')"
   ]
  },
  {
   "cell_type": "markdown",
   "id": "5fb56301",
   "metadata": {},
   "source": [
    "## visualización general de los datos"
   ]
  },
  {
   "cell_type": "code",
   "execution_count": 8,
   "id": "fdcd6dd3",
   "metadata": {},
   "outputs": [
    {
     "name": "stdout",
     "output_type": "stream",
     "text": [
      "<class 'pandas.core.frame.DataFrame'>\n",
      "RangeIndex: 1197 entries, 0 to 1196\n",
      "Data columns (total 5 columns):\n",
      " #   Column         Non-Null Count  Dtype  \n",
      "---  ------         --------------  -----  \n",
      " 0   transactionId  1197 non-null   int64  \n",
      " 1   visitorId      1197 non-null   int64  \n",
      " 2   date           1197 non-null   object \n",
      " 3   revenue        1197 non-null   float64\n",
      " 4   group          1197 non-null   object \n",
      "dtypes: float64(1), int64(2), object(2)\n",
      "memory usage: 46.9+ KB\n",
      "\n",
      " Valores duplicados: 0\n",
      "\n",
      "      transactionId   visitorId        date  revenue group\n",
      "764     2176732109   705680638  2019-08-07     20.7     A\n",
      "565     1910474662  3661375494  2019-08-26     40.2     B\n",
      "457     1442150543  1333058479  2019-08-06     50.6     B\n",
      "506      438781793  1159489312  2019-08-06    130.9     A\n",
      "367     1033377712  3860669668  2019-08-19     65.4     B\n"
     ]
    }
   ],
   "source": [
    "# información general de 'orders'\n",
    "orders.info()\n",
    "print('\\n', 'Valores duplicados:', orders.duplicated().sum())\n",
    "print('\\n', orders.sample(5))"
   ]
  },
  {
   "cell_type": "code",
   "execution_count": 9,
   "id": "a7925bd4",
   "metadata": {},
   "outputs": [
    {
     "name": "stdout",
     "output_type": "stream",
     "text": [
      "<class 'pandas.core.frame.DataFrame'>\n",
      "RangeIndex: 62 entries, 0 to 61\n",
      "Data columns (total 3 columns):\n",
      " #   Column  Non-Null Count  Dtype \n",
      "---  ------  --------------  ----- \n",
      " 0   date    62 non-null     object\n",
      " 1   group   62 non-null     object\n",
      " 2   visits  62 non-null     int64 \n",
      "dtypes: int64(1), object(2)\n",
      "memory usage: 1.6+ KB\n",
      "\n",
      " Valores duplicados: 0\n",
      "\n",
      "           date group  visits\n",
      "44  2019-08-14     B     746\n",
      "2   2019-08-03     A     507\n",
      "21  2019-08-22     A     609\n",
      "52  2019-08-22     B     650\n",
      "32  2019-08-02     B     581\n"
     ]
    }
   ],
   "source": [
    "# información general de 'visits'\n",
    "visitis.info()\n",
    "print('\\n', 'Valores duplicados:', visitis.duplicated().sum())\n",
    "print('\\n', visitis.sample(5))"
   ]
  },
  {
   "cell_type": "markdown",
   "id": "b41697c4",
   "metadata": {},
   "source": [
    "### Comentario\n",
    "Los datasets no presentan valores nulos ni duplicados. Hay que darle formato al nombre de las columnas del df 'orders' y convertir la columna 'date' de ambos df's al formato adecuado."
   ]
  },
  {
   "cell_type": "markdown",
   "id": "98715551",
   "metadata": {},
   "source": [
    "## Limpieza de datos"
   ]
  },
  {
   "cell_type": "code",
   "execution_count": 10,
   "id": "294e13ff",
   "metadata": {},
   "outputs": [],
   "source": [
    "# nombres de columnas 'orders'\n",
    "orders.columns = orders.columns.str.lower()\n",
    "\n",
    "# conversión de columnas 'date'\n",
    "orders['date'] = pd.to_datetime(orders['date'])\n",
    "visitis['date'] = pd.to_datetime(visitis['date'])"
   ]
  },
  {
   "cell_type": "markdown",
   "id": "149b1e37",
   "metadata": {},
   "source": [
    "## Análisis de resultados"
   ]
  },
  {
   "cell_type": "code",
   "execution_count": 11,
   "id": "ebd0edfa",
   "metadata": {},
   "outputs": [
    {
     "name": "stdout",
     "output_type": "stream",
     "text": [
      "Inicio de la prueba: 2019-08-01 00:00:00\n",
      "Fecha corte: 2019-08-31 00:00:00\n"
     ]
    }
   ],
   "source": [
    "print('Inicio de la prueba:', orders['date'].min())\n",
    "print('Fecha corte:', orders['date'].max())"
   ]
  },
  {
   "cell_type": "code",
   "execution_count": 12,
   "id": "9b6d3f89",
   "metadata": {},
   "outputs": [
    {
     "name": "stdout",
     "output_type": "stream",
     "text": [
      "Tamaño grupo A: 503\n",
      "Tamaño grupo B: 586\n"
     ]
    }
   ],
   "source": [
    "# lista de usuarios\n",
    "users_group_a = orders[orders['group'] == 'A']['visitorid'].unique()\n",
    "users_group_b = orders[orders['group'] == 'B']['visitorid'].unique()\n",
    "# tamaño de grupos\n",
    "print('Tamaño grupo A:', len(users_group_a))\n",
    "print('Tamaño grupo B:', len(users_group_b))"
   ]
  },
  {
   "cell_type": "code",
   "execution_count": 13,
   "id": "cef075c7",
   "metadata": {},
   "outputs": [
    {
     "name": "stdout",
     "output_type": "stream",
     "text": [
      "Usuarios en ambos grupos: 58\n"
     ]
    }
   ],
   "source": [
    "# usuarios en común grupo A y B\n",
    "common_users = np.intersect1d(users_group_a, users_group_b)\n",
    "print('Usuarios en ambos grupos:', len(common_users))"
   ]
  },
  {
   "cell_type": "code",
   "execution_count": 14,
   "id": "335a9de4",
   "metadata": {},
   "outputs": [
    {
     "name": "stdout",
     "output_type": "stream",
     "text": [
      "Tamaño grupo A: 445\n",
      "Tamaño grupo B: 528\n"
     ]
    }
   ],
   "source": [
    "# filtrar 'orders' sin usuarios duplicados\n",
    "filtered_orders = orders[np.logical_not(orders['visitorid'].isin(common_users))]\n",
    "\n",
    "# usuarios por grupo\n",
    "# lista de usuarios\n",
    "users_group_a = filtered_orders[filtered_orders['group'] == 'A']['visitorid'].unique()\n",
    "users_group_b = filtered_orders[filtered_orders['group'] == 'B']['visitorid'].unique()\n",
    "# tamaño de grupos\n",
    "print('Tamaño grupo A:', len(users_group_a))\n",
    "print('Tamaño grupo B:', len(users_group_b))"
   ]
  },
  {
   "cell_type": "code",
   "execution_count": 15,
   "id": "d7b96acc",
   "metadata": {},
   "outputs": [
    {
     "data": {
      "image/png": "[encoded data removed]",
      "text/plain": [
       "<Figure size 800x400 with 1 Axes>"
      ]
     },
     "metadata": {},
     "output_type": "display_data"
    }
   ],
   "source": [
    "# ingreso acumulado diario por grupo\n",
    "# dataframe de acumulado diario\n",
    "daily_cumulative_revenue = filtered_orders.groupby(['group', 'date'], as_index=False)['revenue'].sum()\n",
    "\n",
    "# ordenar cronológicamente\n",
    "daily_cumulative_revenue = daily_cumulative_revenue.sort_values(['group', 'date'])\n",
    "\n",
    "# calcular ingreso acumulado diario\n",
    "daily_cumulative_revenue['cumulative_revenue'] = daily_cumulative_revenue.groupby('group')['revenue'].cumsum()\n",
    "\n",
    "# gráfico de líneas: ingreso acumulado diario\n",
    "plt.style.use('dark_background')\n",
    "plt.figure(figsize=(8,4))\n",
    "colors = {'A': '#8FD6FA', 'B': '#F87C63'}\n",
    "for grp in ['A', 'B']:\n",
    "    grp_data = daily_cumulative_revenue[daily_cumulative_revenue['group']==grp]\n",
    "    plt.plot(grp_data['date'], grp_data['cumulative_revenue'], label=f'Grupo {grp}', color=colors[grp])\n",
    "plt.title('Ingreso acumulado diario')\n",
    "plt.xlabel('Fecha')\n",
    "plt.ylabel('Ingreso ($)')\n",
    "plt.legend()\n",
    "plt.xticks(rotation=45)\n",
    "plt.show()"
   ]
  }
 ],
 "metadata": {
  "kernelspec": {
   "display_name": "Python 3",
   "language": "python",
   "name": "python3"
  },
  "language_info": {
   "codemirror_mode": {
    "name": "ipython",
    "version": 3
   },
   "file_extension": ".py",
   "mimetype": "text/x-python",
   "name": "python",
   "nbconvert_exporter": "python",
   "pygments_lexer": "ipython3",
   "version": "3.12.7"
  }
 },
 "nbformat": 4,
 "nbformat_minor": 5
}
