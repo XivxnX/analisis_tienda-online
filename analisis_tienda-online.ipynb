{
 "cells": [
  {
   "cell_type": "markdown",
   "id": "ea385643",
   "metadata": {},
   "source": [
    "# Análisis para tienda online\n",
    "## Objetivo:\n",
    "Análisis de hipótesis para el aumento de ingresos\n",
    "### Objetivos específicos:\n",
    "* Priorizar las hipótesis\n",
    "* Analizar el test A/B\n",
    "    * Ingreso acumudalo por grupo\n",
    "    * Número de pedidos por grupo\n",
    "    * Ticket promedio por grupo y su diferencia relativa\n",
    "    * Tasa de conversión para cada grupo\n",
    "    * Identificar anomalías\n",
    "    * Significancia estadística de la diferencia en la tasa de conversión y el ticket promedio para cada grupo\n"
   ]
  },
  {
   "cell_type": "markdown",
   "id": "6c1b2962",
   "metadata": {},
   "source": [
    "## Pasos a seguir\n",
    "1. Priorizar las hipótesis\n",
    "    * Aplicar framework ICE\n",
    "    * Aplicar framework RICE\n",
    "\n",
    "2. Análisis de test A/B\n",
    "    * Limpieza de datos\n",
    "    * Ingreso acumudalo por grupo\n",
    "    * Número de pedidos por grupo\n",
    "    * Ticket promedio por grupo y su diferencia relativa\n",
    "    * Tasa de conversión para cada grupo\n",
    "    * Identificar anomalías\n",
    "    * Significancia estadística de la diferencia en la tasa de conversión y el ticket promedio para cada grupo\n",
    "\n",
    "3. Toma de decisión sobre la prueba"
   ]
  },
  {
   "cell_type": "markdown",
   "id": "b7615ce8",
   "metadata": {},
   "source": [
    "## Diccionario de datos\n",
    "\n",
    "**Hypotheses** (hipótesis)\n",
    "* ``Hypotheses``: breves descripciones de las hipótesis\n",
    "* ``Reach``: alcance del usuario, en una escala del uno a diez\n",
    "* ``Impact``: impacto en los usuarios, en una escala del uno al diez\n",
    "* ``Confidence``: confianza en la hipótesis, en una escala del uno al diez\n",
    "* ``Effort``: los recursos necesarios para probar una hipótesis, en una escala del uno al diez. Cuanto mayor sea el valor Effort, más recursos requiere la prueba\n",
    "\n",
    "**Orders** (pedidos realizados)\n",
    "* ``transactionId``: identificador de pedido\n",
    "* ``visitorId``: identificador del usuario que realizó el pedido\n",
    "* ``date``: fecha del pedido\n",
    "* ``revenue``: ingresos del pedido\n",
    "* ``group``: el grupo del test A/B al que pertenece el usuario\n",
    "\n",
    "**Visits** (registro de visitas)\n",
    "* ``date``: la fecha\n",
    "* ``group``: grupo de la prueba A/B\n",
    "* ``visits``: el número de visitas en la fecha especificada en el grupo de pruebas A/B especificado"
   ]
  },
  {
   "cell_type": "code",
   "execution_count": 1,
   "id": "e37aaa39",
   "metadata": {},
   "outputs": [],
   "source": [
    "# importar librerias\n",
    "import pandas as pd\n",
    "import numpy as np\n",
    "import matplotlib.pyplot as plt\n",
    "import seaborn as sns\n",
    "import scipy.stats as st\n",
    "from statsmodels.stats.proportion import proportions_ztest"
   ]
  },
  {
   "cell_type": "markdown",
   "id": "7a26e48d",
   "metadata": {},
   "source": [
    "# Priorizar hipótesis"
   ]
  },
  {
   "cell_type": "code",
   "execution_count": 2,
   "id": "d9da7d07",
   "metadata": {},
   "outputs": [
    {
     "name": "stdout",
     "output_type": "stream",
     "text": [
      "<class 'pandas.core.frame.DataFrame'>\n",
      "RangeIndex: 9 entries, 0 to 8\n",
      "Data columns (total 5 columns):\n",
      " #   Column      Non-Null Count  Dtype \n",
      "---  ------      --------------  ----- \n",
      " 0   Hypothesis  9 non-null      object\n",
      " 1   Reach       9 non-null      int64 \n",
      " 2   Impact      9 non-null      int64 \n",
      " 3   Confidence  9 non-null      int64 \n",
      " 4   Effort      9 non-null      int64 \n",
      "dtypes: int64(4), object(1)\n",
      "memory usage: 492.0+ bytes\n"
     ]
    }
   ],
   "source": [
    "# importar hipótesis\n",
    "hypotheses = pd.read_csv('hypotheses_us.csv', sep=';')\n",
    "\n",
    "# información general de 'hypotheses'\n",
    "hypotheses.info()"
   ]
  },
  {
   "cell_type": "code",
   "execution_count": 3,
   "id": "54be41cd",
   "metadata": {},
   "outputs": [],
   "source": [
    "# nombres de columnas\n",
    "hypotheses.columns = hypotheses.columns.str.lower()"
   ]
  },
  {
   "cell_type": "code",
   "execution_count": 4,
   "id": "c60dabcb",
   "metadata": {},
   "outputs": [
    {
     "data": {
      "text/html": [
       "<div>\n",
       "<style scoped>\n",
       "    .dataframe tbody tr th:only-of-type {\n",
       "        vertical-align: middle;\n",
       "    }\n",
       "\n",
       "    .dataframe tbody tr th {\n",
       "        vertical-align: top;\n",
       "    }\n",
       "\n",
       "    .dataframe thead th {\n",
       "        text-align: right;\n",
       "    }\n",
       "</style>\n",
       "<table border=\"1\" class=\"dataframe\">\n",
       "  <thead>\n",
       "    <tr style=\"text-align: right;\">\n",
       "      <th></th>\n",
       "      <th>hypothesis</th>\n",
       "      <th>reach</th>\n",
       "      <th>impact</th>\n",
       "      <th>confidence</th>\n",
       "      <th>effort</th>\n",
       "    </tr>\n",
       "  </thead>\n",
       "  <tbody>\n",
       "    <tr>\n",
       "      <th>0</th>\n",
       "      <td>Add two new channels for attracting traffic. T...</td>\n",
       "      <td>3</td>\n",
       "      <td>10</td>\n",
       "      <td>8</td>\n",
       "      <td>6</td>\n",
       "    </tr>\n",
       "    <tr>\n",
       "      <th>1</th>\n",
       "      <td>Launch your own delivery service. This will sh...</td>\n",
       "      <td>2</td>\n",
       "      <td>5</td>\n",
       "      <td>4</td>\n",
       "      <td>10</td>\n",
       "    </tr>\n",
       "    <tr>\n",
       "      <th>2</th>\n",
       "      <td>Add product recommendation blocks to the store...</td>\n",
       "      <td>8</td>\n",
       "      <td>3</td>\n",
       "      <td>7</td>\n",
       "      <td>3</td>\n",
       "    </tr>\n",
       "    <tr>\n",
       "      <th>3</th>\n",
       "      <td>Change the category structure. This will incre...</td>\n",
       "      <td>8</td>\n",
       "      <td>3</td>\n",
       "      <td>3</td>\n",
       "      <td>8</td>\n",
       "    </tr>\n",
       "    <tr>\n",
       "      <th>4</th>\n",
       "      <td>Change the background color on the main page. ...</td>\n",
       "      <td>3</td>\n",
       "      <td>1</td>\n",
       "      <td>1</td>\n",
       "      <td>1</td>\n",
       "    </tr>\n",
       "    <tr>\n",
       "      <th>5</th>\n",
       "      <td>Add a customer review page. This will increase...</td>\n",
       "      <td>3</td>\n",
       "      <td>2</td>\n",
       "      <td>2</td>\n",
       "      <td>3</td>\n",
       "    </tr>\n",
       "    <tr>\n",
       "      <th>6</th>\n",
       "      <td>Show banners with current offers and sales on ...</td>\n",
       "      <td>5</td>\n",
       "      <td>3</td>\n",
       "      <td>8</td>\n",
       "      <td>3</td>\n",
       "    </tr>\n",
       "    <tr>\n",
       "      <th>7</th>\n",
       "      <td>Add a subscription form to all the main pages....</td>\n",
       "      <td>10</td>\n",
       "      <td>7</td>\n",
       "      <td>8</td>\n",
       "      <td>5</td>\n",
       "    </tr>\n",
       "    <tr>\n",
       "      <th>8</th>\n",
       "      <td>Launch a promotion that gives users discounts ...</td>\n",
       "      <td>1</td>\n",
       "      <td>9</td>\n",
       "      <td>9</td>\n",
       "      <td>5</td>\n",
       "    </tr>\n",
       "  </tbody>\n",
       "</table>\n",
       "</div>"
      ],
      "text/plain": [
       "                                          hypothesis  reach  impact  \\\n",
       "0  Add two new channels for attracting traffic. T...      3      10   \n",
       "1  Launch your own delivery service. This will sh...      2       5   \n",
       "2  Add product recommendation blocks to the store...      8       3   \n",
       "3  Change the category structure. This will incre...      8       3   \n",
       "4  Change the background color on the main page. ...      3       1   \n",
       "5  Add a customer review page. This will increase...      3       2   \n",
       "6  Show banners with current offers and sales on ...      5       3   \n",
       "7  Add a subscription form to all the main pages....     10       7   \n",
       "8  Launch a promotion that gives users discounts ...      1       9   \n",
       "\n",
       "   confidence  effort  \n",
       "0           8       6  \n",
       "1           4      10  \n",
       "2           7       3  \n",
       "3           3       8  \n",
       "4           1       1  \n",
       "5           2       3  \n",
       "6           8       3  \n",
       "7           8       5  \n",
       "8           9       5  "
      ]
     },
     "execution_count": 4,
     "metadata": {},
     "output_type": "execute_result"
    }
   ],
   "source": [
    "# mostrar hipótesis\n",
    "hypotheses"
   ]
  },
  {
   "cell_type": "code",
   "execution_count": 5,
   "id": "81f5a0d1",
   "metadata": {},
   "outputs": [],
   "source": [
    "# elaborar frameworks\n",
    "# calcular 'ICE'\n",
    "hypotheses['ICE'] = (hypotheses['impact'] * hypotheses['confidence']) / hypotheses['effort']\n",
    "\n",
    "# calcular 'RICE'\n",
    "hypotheses['RICE'] = (hypotheses['reach'] * hypotheses['impact'] * hypotheses['confidence']) / hypotheses['effort']"
   ]
  },
  {
   "cell_type": "code",
   "execution_count": 6,
   "id": "076381d4",
   "metadata": {},
   "outputs": [
    {
     "name": "stdout",
     "output_type": "stream",
     "text": [
      "Framework ICE \n",
      "                                           hypothesis        ICE\n",
      "8  Launch a promotion that gives users discounts ...  16.200000\n",
      "0  Add two new channels for attracting traffic. T...  13.333333\n",
      "7  Add a subscription form to all the main pages....  11.200000\n",
      "6  Show banners with current offers and sales on ...   8.000000\n",
      "2  Add product recommendation blocks to the store...   7.000000\n",
      "1  Launch your own delivery service. This will sh...   2.000000\n",
      "5  Add a customer review page. This will increase...   1.333333\n",
      "3  Change the category structure. This will incre...   1.125000\n",
      "4  Change the background color on the main page. ...   1.000000\n",
      "\n",
      "Framework RICE \n",
      "                                           hypothesis   RICE\n",
      "7  Add a subscription form to all the main pages....  112.0\n",
      "2  Add product recommendation blocks to the store...   56.0\n",
      "0  Add two new channels for attracting traffic. T...   40.0\n",
      "6  Show banners with current offers and sales on ...   40.0\n",
      "8  Launch a promotion that gives users discounts ...   16.2\n",
      "3  Change the category structure. This will incre...    9.0\n",
      "1  Launch your own delivery service. This will sh...    4.0\n",
      "5  Add a customer review page. This will increase...    4.0\n",
      "4  Change the background color on the main page. ...    3.0\n"
     ]
    }
   ],
   "source": [
    "# prioridad de las hipótesis\n",
    "print('Framework ICE', '\\n', hypotheses[['hypothesis', 'ICE']].sort_values(by='ICE', ascending=False))\n",
    "print()\n",
    "print('Framework RICE', '\\n', hypotheses[['hypothesis', 'RICE']].sort_values(by='RICE', ascending=False))"
   ]
  },
  {
   "cell_type": "markdown",
   "id": "39b01e95",
   "metadata": {},
   "source": [
    "### Comentario\n",
    "Hay una diferencia en la priorización de las hipótesis dependiendo del framework empleado, esto se debe al parámetro 'reach' que emplea el 'RICE'. Sugiero priorizar las hipótesis tomando en cuenta ambos métodos para considerar tanto el impacto como el alcance.\n",
    "\n",
    "Hipótesis recomendadas por orden de prioridad:\n",
    "1) hipótesis 8: Add a subscription form to all the main pages. This will help you compile a mailing list\n",
    "2) hipótesis 1: Add two new channels for attracting traffic. This will bring 30% more users\n",
    "3) hipótesis 3: Add product recommendation blocks to the store's site. This will increase conversion and average purchase size"
   ]
  }
 ],
 "metadata": {
  "kernelspec": {
   "display_name": "Python 3",
   "language": "python",
   "name": "python3"
  },
  "language_info": {
   "codemirror_mode": {
    "name": "ipython",
    "version": 3
   },
   "file_extension": ".py",
   "mimetype": "text/x-python",
   "name": "python",
   "nbconvert_exporter": "python",
   "pygments_lexer": "ipython3",
   "version": "3.12.7"
  }
 },
 "nbformat": 4,
 "nbformat_minor": 5
}
