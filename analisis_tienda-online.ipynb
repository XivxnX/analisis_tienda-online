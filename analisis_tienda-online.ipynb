{
 "cells": [
  {
   "cell_type": "markdown",
   "id": "ea385643",
   "metadata": {},
   "source": [
    "# Análisis para tienda online\n",
    "## Objetivo:\n",
    "Análisis de hipótesis para el aumento de ingresos\n",
    "### Objetivos específicos:\n",
    "* Priorizar las hipótesis\n",
    "* Analizar el test A/B\n",
    "    * Ingreso acumudalo por grupo\n",
    "    * Número de pedidos por grupo\n",
    "    * Ticket promedio por grupo y su diferencia relativa\n",
    "    * Tasa de conversión para cada grupo\n",
    "    * Identificar anomalías\n",
    "    * Significancia estadística de la diferencia en la tasa de conversión y el ticket promedio para cada grupo\n"
   ]
  },
  {
   "cell_type": "markdown",
   "id": "6c1b2962",
   "metadata": {},
   "source": [
    "## Pasos a seguir\n",
    "1. Priorizar las hipótesis\n",
    "    * Aplicar framework ICE\n",
    "    * Aplicar framework RICE\n",
    "\n",
    "2. Análisis de test A/B\n",
    "    * Limpieza de datos\n",
    "    * Ingreso acumudalo por grupo\n",
    "    * Número de pedidos por grupo\n",
    "    * Ticket promedio por grupo y su diferencia relativa\n",
    "    * Tasa de conversión para cada grupo\n",
    "    * Identificar anomalías\n",
    "    * Significancia estadística de la diferencia en la tasa de conversión y el ticket promedio para cada grupo\n",
    "\n",
    "3. Toma de decisión sobre la prueba"
   ]
  },
  {
   "cell_type": "markdown",
   "id": "b7615ce8",
   "metadata": {},
   "source": [
    "## Diccionario de datos\n",
    "\n",
    "**Hypotheses** (hipótesis)\n",
    "* ``Hypotheses``: breves descripciones de las hipótesis\n",
    "* ``Reach``: alcance del usuario, en una escala del uno a diez\n",
    "* ``Impact``: impacto en los usuarios, en una escala del uno al diez\n",
    "* ``Confidence``: confianza en la hipótesis, en una escala del uno al diez\n",
    "* ``Effort``: los recursos necesarios para probar una hipótesis, en una escala del uno al diez. Cuanto mayor sea el valor Effort, más recursos requiere la prueba\n",
    "\n",
    "**Orders** (pedidos realizados)\n",
    "* ``transactionId``: identificador de pedido\n",
    "* ``visitorId``: identificador del usuario que realizó el pedido\n",
    "* ``date``: fecha del pedido\n",
    "* ``revenue``: ingresos del pedido\n",
    "* ``group``: el grupo del test A/B al que pertenece el usuario\n",
    "\n",
    "**Visits** (registro de visitas)\n",
    "* ``date``: la fecha\n",
    "* ``group``: grupo de la prueba A/B\n",
    "* ``visits``: el número de visitas en la fecha especificada en el grupo de pruebas A/B especificado"
   ]
  },
  {
   "cell_type": "markdown",
   "id": "e33ce154",
   "metadata": {},
   "source": []
  }
 ],
 "metadata": {
  "language_info": {
   "name": "python"
  }
 },
 "nbformat": 4,
 "nbformat_minor": 5
}
